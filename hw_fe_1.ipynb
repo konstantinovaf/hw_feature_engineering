{
 "cells": [
  {
   "cell_type": "markdown",
   "metadata": {},
   "source": [
    "Преподаватель: Артур Сапрыкин\n",
    "**Домашнее задание. **\n",
    "\n",
    "Необходимо запустить практическую часть занятия- файл находиться в материалых, и посмотреть самому то, о чём говорили на лекции.\n",
    "По образу практики, попробуйте создать искусственный датасет с лишними столбцами.\n",
    "Целевую метку, при правильной обработке данных, формируйте таким образом, чтобы без затруднений её смогла описать линейная модель.\n",
    "Ориентируйтесь на то, что было показано во время занятия, и каждый шаг описывайте в markdown.\n",
    "Здесь важно видеть ваш ход мысли. Не бойтесь ошибиться или написать не то. Данное задание не имеет какого-то “правильного” решения. Цель - достичь базового понимания проблемы. Чем больше вы фантазируете, тем лучше :) Тем не менее, старайтесь представить те ситуации, которые по-вашему мнению могли бы быть в реальных данных. Успеха!\n"
   ]
  },
  {
   "cell_type": "code",
   "execution_count": 2,
   "metadata": {},
   "outputs": [],
   "source": [
    "import numpy as np\n",
    "import pandas as pd\n",
    "\n",
    "from sklearn.linear_model import LinearRegression"
   ]
  },
  {
   "cell_type": "code",
   "execution_count": 31,
   "metadata": {},
   "outputs": [
    {
     "data": {
      "text/html": [
       "<div>\n",
       "<style scoped>\n",
       "    .dataframe tbody tr th:only-of-type {\n",
       "        vertical-align: middle;\n",
       "    }\n",
       "\n",
       "    .dataframe tbody tr th {\n",
       "        vertical-align: top;\n",
       "    }\n",
       "\n",
       "    .dataframe thead th {\n",
       "        text-align: right;\n",
       "    }\n",
       "</style>\n",
       "<table border=\"1\" class=\"dataframe\">\n",
       "  <thead>\n",
       "    <tr style=\"text-align: right;\">\n",
       "      <th></th>\n",
       "      <th>ddr_size</th>\n",
       "      <th>hard_drive_size</th>\n",
       "      <th>cpu_power</th>\n",
       "      <th>body_color_code</th>\n",
       "      <th>laptop_price</th>\n",
       "    </tr>\n",
       "  </thead>\n",
       "  <tbody>\n",
       "    <tr>\n",
       "      <th>0</th>\n",
       "      <td>85</td>\n",
       "      <td>68</td>\n",
       "      <td>52</td>\n",
       "      <td>13</td>\n",
       "      <td>346.4</td>\n",
       "    </tr>\n",
       "    <tr>\n",
       "      <th>1</th>\n",
       "      <td>97</td>\n",
       "      <td>77</td>\n",
       "      <td>57</td>\n",
       "      <td>29</td>\n",
       "      <td>387.5</td>\n",
       "    </tr>\n",
       "    <tr>\n",
       "      <th>2</th>\n",
       "      <td>110</td>\n",
       "      <td>102</td>\n",
       "      <td>16</td>\n",
       "      <td>18</td>\n",
       "      <td>312.6</td>\n",
       "    </tr>\n",
       "    <tr>\n",
       "      <th>3</th>\n",
       "      <td>33</td>\n",
       "      <td>99</td>\n",
       "      <td>38</td>\n",
       "      <td>17</td>\n",
       "      <td>282.3</td>\n",
       "    </tr>\n",
       "    <tr>\n",
       "      <th>4</th>\n",
       "      <td>26</td>\n",
       "      <td>71</td>\n",
       "      <td>34</td>\n",
       "      <td>29</td>\n",
       "      <td>225.5</td>\n",
       "    </tr>\n",
       "  </tbody>\n",
       "</table>\n",
       "</div>"
      ],
      "text/plain": [
       "   ddr_size  hard_drive_size  cpu_power  body_color_code  laptop_price\n",
       "0        85               68         52               13         346.4\n",
       "1        97               77         57               29         387.5\n",
       "2       110              102         16               18         312.6\n",
       "3        33               99         38               17         282.3\n",
       "4        26               71         34               29         225.5"
      ]
     },
     "execution_count": 31,
     "metadata": {},
     "output_type": "execute_result"
    }
   ],
   "source": [
    "# Создаём сэмпл\n",
    "n_samples = 500\n",
    "\n",
    "# Просто формируем какие-то цифры рандомно\n",
    "ddr_size = np.random.choice(90, n_samples) + 21\n",
    "hard_drive_size = np.random.choice(120, n_samples) + 15\n",
    "cpu_power = np.random.choice(80, n_samples) + 10\n",
    "body_color_code = np.random.choice(20, n_samples) + 10\n",
    "\n",
    "# Прикидываем как примерно может выглядеть формула цены на laptop\n",
    "laptop_price = ddr_size*1.2 + hard_drive_size*1.3 + cpu_power * 3\n",
    "\n",
    "data = pd.DataFrame({'ddr_size': ddr_size,\n",
    "                     'hard_drive_size': hard_drive_size, \n",
    "                     'cpu_power': cpu_power,\n",
    "                     'body_color_code': body_color_code,\n",
    "                     'laptop_price': laptop_price,\n",
    "                    })\n",
    "data.head(5)"
   ]
  },
  {
   "cell_type": "code",
   "execution_count": 32,
   "metadata": {},
   "outputs": [
    {
     "name": "stdout",
     "output_type": "stream",
     "text": [
      "Weights: [1.20000000e+00 1.30000000e+00 3.00000000e+00 3.40005801e-16]\n",
      "Bias: 1.1368683772161603e-13\n",
      "Error: 4.831690603168681e-14\n"
     ]
    }
   ],
   "source": [
    "\n",
    "from sklearn.metrics import mean_absolute_error\n",
    "\n",
    "X = data[['ddr_size', 'hard_drive_size', 'cpu_power', 'body_color_code']]\n",
    "y = data['laptop_price']\n",
    "reg = LinearRegression().fit(X, y)\n",
    "print('Weights: {}'.format(reg.coef_))\n",
    "print('Bias: {}'.format(reg.intercept_))\n",
    "\n",
    "pred_values = reg.predict(X)\n",
    "print('Error: {}'.format(mean_absolute_error(pred_values, y)))\n",
    "# Модель почти угадала коэффициенты - занулила \"body_color_code\" (3.4e-16). Поэтому отбросим body_color_code\n",
    "\n"
   ]
  },
  {
   "cell_type": "code",
   "execution_count": 35,
   "metadata": {},
   "outputs": [
    {
     "name": "stdout",
     "output_type": "stream",
     "text": [
      "Weights: [1.2 1.3 3. ]\n",
      "Bias: 2.2737367544323206e-13\n",
      "Error: 5.934452929068357e-14\n"
     ]
    }
   ],
   "source": [
    "# Убираем левый параметр, который не влияет на цену в формуле регрессии body_color_code\n",
    "# И смотрим как модель улучшается\n",
    "X1 = X.loc[:, X.columns !='body_color_code']\n",
    "y1 = data['laptop_price']\n",
    "reg = LinearRegression().fit(X1, y1)\n",
    "print('Weights: {}'.format(reg.coef_))\n",
    "print('Bias: {}'.format(reg.intercept_))\n",
    "\n",
    "pred_values = reg.predict(X1)\n",
    "print('Error: {}'.format(mean_absolute_error(pred_values, y)))\n",
    "# Модель в точности угадала коэффициенты, которые мы заложили. \n",
    "# При этом мы исключили не работающую переменную -> будет меньше шумов\n",
    "# Теперь мы можем использовать модель без знания первичной функции - круто!"
   ]
  }
 ],
 "metadata": {
  "kernelspec": {
   "display_name": "Python 3",
   "language": "python",
   "name": "python3"
  },
  "language_info": {
   "codemirror_mode": {
    "name": "ipython",
    "version": 3
   },
   "file_extension": ".py",
   "mimetype": "text/x-python",
   "name": "python",
   "nbconvert_exporter": "python",
   "pygments_lexer": "ipython3",
   "version": "3.6.5"
  }
 },
 "nbformat": 4,
 "nbformat_minor": 2
}
